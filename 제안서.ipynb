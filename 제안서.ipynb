{
  "nbformat": 4,
  "nbformat_minor": 0,
  "metadata": {
    "colab": {
      "provenance": [],
      "authorship_tag": "ABX9TyNKgD9ixChC+qYVTrkOQ+Qh",
      "include_colab_link": true
    },
    "kernelspec": {
      "name": "python3",
      "display_name": "Python 3"
    },
    "language_info": {
      "name": "python"
    }
  },
  "cells": [
    {
      "cell_type": "markdown",
      "metadata": {
        "id": "view-in-github",
        "colab_type": "text"
      },
      "source": [
        "<a href=\"https://colab.research.google.com/github/ChoHyeonJun86/First-Project/blob/main/%EC%A0%9C%EC%95%88%EC%84%9C.ipynb\" target=\"_parent\"><img src=\"https://colab.research.google.com/assets/colab-badge.svg\" alt=\"Open In Colab\"/></a>"
      ]
    },
    {
      "cell_type": "markdown",
      "source": [
        "# 프로젝트 개요\n",
        "\n",
        "-쓰레기통의 최적 위치를 선정한다. 쓰레기의 무단 투기를 최소화 하고자 한다.\n",
        "\n",
        "## 배경\n",
        "\n",
        "-최근 학교 주변에서 쓰레기를 쉽게 발견할 수 있었다. 쓰레기통의 부재에 기인한 것으로 예상되므로 이를 해결하고자 프로젝트 주제로 선정했다.\n",
        "\n",
        "## 사용한 머신러닝 기법\n",
        "\n",
        "-비지도 학습(클러스터링)\n",
        "\n",
        "## 데이터셋 설명\n",
        "\n",
        "-서울 열린 데이터 광장(종로구 가로쓰레기통 설치 정보, 버스정류장 좌표 데이터)\n",
        "-SKT 빅데이터 허브(서울 특별시 25개 자치구별 유동인구)\n",
        "-서울 특별시 빅데이터 캠퍼스(종로구 블록당 추정매출액, 종로구 월별 50m간격 SKT유동인구)"
      ],
      "metadata": {
        "id": "2Nw9xFzcAhKm"
      }
    }
  ]
}