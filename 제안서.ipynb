{
  "nbformat": 4,
  "nbformat_minor": 0,
  "metadata": {
    "colab": {
      "provenance": [],
      "authorship_tag": "ABX9TyNMc/l7N8i6T/nUNcmKPxF9",
      "include_colab_link": true
    },
    "kernelspec": {
      "name": "python3",
      "display_name": "Python 3"
    },
    "language_info": {
      "name": "python"
    }
  },
  "cells": [
    {
      "cell_type": "markdown",
      "metadata": {
        "id": "view-in-github",
        "colab_type": "text"
      },
      "source": [
        "<a href=\"https://colab.research.google.com/github/ChoHyeonJun86/First-Project/blob/main/%EC%A0%9C%EC%95%88%EC%84%9C.ipynb\" target=\"_parent\"><img src=\"https://colab.research.google.com/assets/colab-badge.svg\" alt=\"Open In Colab\"/></a>"
      ]
    },
    {
      "cell_type": "markdown",
      "source": [
        "# 프로젝트 개요\n",
        "\n",
        "-\n",
        "\n",
        "## 배경\n",
        "\n",
        "-\n",
        "\n",
        "## 사용한 머신러닝 기법\n",
        "\n",
        "-\n",
        "\n",
        "## 데이터셋\n",
        "\n",
        "-"
      ],
      "metadata": {
        "id": "2Nw9xFzcAhKm"
      }
    },
    {
      "cell_type": "code",
      "source": [],
      "metadata": {
        "id": "sHGy8ODBBPq3"
      },
      "execution_count": null,
      "outputs": []
    }
  ]
}