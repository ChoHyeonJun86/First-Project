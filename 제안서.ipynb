{
  "nbformat": 4,
  "nbformat_minor": 0,
  "metadata": {
    "colab": {
      "provenance": [],
      "authorship_tag": "ABX9TyMfZt7Nr12VX5r9KBobqdqU",
      "include_colab_link": true
    },
    "kernelspec": {
      "name": "python3",
      "display_name": "Python 3"
    },
    "language_info": {
      "name": "python"
    }
  },
  "cells": [
    {
      "cell_type": "markdown",
      "metadata": {
        "id": "view-in-github",
        "colab_type": "text"
      },
      "source": [
        "<a href=\"https://colab.research.google.com/github/ChoHyeonJun86/First-Project/blob/main/%EC%A0%9C%EC%95%88%EC%84%9C.ipynb\" target=\"_parent\"><img src=\"https://colab.research.google.com/assets/colab-badge.svg\" alt=\"Open In Colab\"/></a>"
      ]
    },
    {
      "cell_type": "code",
      "execution_count": null,
      "metadata": {
        "id": "lPvj0-x8AdT2"
      },
      "outputs": [],
      "source": []
    },
    {
      "cell_type": "markdown",
      "source": [
        "# 프로젝트 개요\n",
        "\n",
        "-\n",
        "\n",
        "## 배경\n",
        "\n",
        "-\n",
        "\n",
        "## 사용한 머신러닝 기법\n",
        "\n",
        "-\n",
        "\n",
        "## 데이터셋\n",
        "\n",
        "-"
      ],
      "metadata": {
        "id": "2Nw9xFzcAhKm"
      }
    }
  ]
}